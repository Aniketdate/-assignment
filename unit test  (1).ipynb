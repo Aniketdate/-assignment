{
 "cells": [
  {
   "cell_type": "markdown",
   "id": "b11341d4",
   "metadata": {},
   "source": [
    "## Q.1. What are keywords in python? Using the keyword library, print all the python keywords."
   ]
  },
  {
   "cell_type": "code",
   "execution_count": 1,
   "id": "6215d13b",
   "metadata": {},
   "outputs": [
    {
     "name": "stdout",
     "output_type": "stream",
     "text": [
      "['False', 'None', 'True', '__peg_parser__', 'and', 'as', 'assert', 'async', 'await', 'break', 'class', 'continue', 'def', 'del', 'elif', 'else', 'except', 'finally', 'for', 'from', 'global', 'if', 'import', 'in', 'is', 'lambda', 'nonlocal', 'not', 'or', 'pass', 'raise', 'return', 'try', 'while', 'with', 'yield']\n"
     ]
    }
   ],
   "source": [
    "import keyword\n",
    "print(keyword.kwlist)"
   ]
  },
  {
   "cell_type": "markdown",
   "id": "25ff6e32",
   "metadata": {},
   "source": [
    " ## Q.2. What are the rules to create variables in python?"
   ]
  },
  {
   "cell_type": "code",
   "execution_count": null,
   "id": "90b465fe",
   "metadata": {},
   "outputs": [],
   "source": [
    "1. Variable name can not be start using a number, space or any special symbol.\n",
    "\n",
    "2. Variable name Should not contain any special symbol except underscore(_).\n",
    "\n",
    "3. Variable must be start with a alphabet.\n",
    "\n",
    "4. Variables can be alphanumeric.\n"
   ]
  },
  {
   "cell_type": "markdown",
   "id": "c4767890",
   "metadata": {},
   "source": [
    "## Q.3. What are the standards and conventions followed for the nomenclature of variables in python to improve code readability and maintainability"
   ]
  },
  {
   "cell_type": "code",
   "execution_count": null,
   "id": "57bdcc67",
   "metadata": {},
   "outputs": [],
   "source": [
    "In Python, variable names should be descriptive, use snake_case avoid using reserved words start \n",
    "with a letter or an underscore and be concise yet clear. Additionallyus e meaningful names that \n",
    "convey the purpose of the variable to enhance readability and \n",
    "maintainability."
   ]
  },
  {
   "cell_type": "markdown",
   "id": "9c008ea4",
   "metadata": {},
   "source": [
    "## Q.4. What will happen if a keyword is used as a variable name?"
   ]
  },
  {
   "cell_type": "markdown",
   "id": "508b29fd",
   "metadata": {},
   "source": [
    "1.Basically keywords  are the reserved words which have their own functions.\n",
    "\n",
    "2.If python keywords are used as variable name it will give errors like syntax error.\n"
   ]
  },
  {
   "cell_type": "markdown",
   "id": "8fa82f63",
   "metadata": {},
   "source": [
    " ## Q.5. For what purpose def keyword is used?"
   ]
  },
  {
   "cell_type": "code",
   "execution_count": null,
   "id": "1a59030e",
   "metadata": {},
   "outputs": [],
   "source": [
    "Def keyword is used to define functions."
   ]
  },
  {
   "cell_type": "markdown",
   "id": "aadfe209",
   "metadata": {},
   "source": [
    "## Q.6. What is the operation of this special character ‘\\’?"
   ]
  },
  {
   "cell_type": "code",
   "execution_count": null,
   "id": "7d62f0c9",
   "metadata": {},
   "outputs": [],
   "source": [
    "The backslash (\\) is a special character used in various computing contexts with different \n",
    "meanings and operations."
   ]
  },
  {
   "cell_type": "markdown",
   "id": "63b1dde2",
   "metadata": {},
   "source": [
    "## Q.7. Give an example of the following conditions"
   ]
  },
  {
   "cell_type": "code",
   "execution_count": null,
   "id": "a2461dcd",
   "metadata": {},
   "outputs": [],
   "source": [
    "(i)     Homogeneous list\n",
    "(ii)    Heterogeneous set\n",
    "(iii)   Homogeneous tuple\n",
    "Homogeneous means the list/set/tuple with elements of same data type and on other hand heterogeneou\n",
    "means list/set/tuple with elements of different data type\n",
    "Examples:\n",
    "1.\tHomogeneous list :a=[11,22,33,44,55]\n",
    "2.\tHeterogeneous set :a={1,’aniket’,34.67}\n",
    "3.\tHomogeneous tuple :  a=(5.6,3.4.1.7)\n",
    "\n",
    "\n"
   ]
  },
  {
   "cell_type": "markdown",
   "id": "d0e36956",
   "metadata": {},
   "source": [
    "## Q.8. Explain the mutable and immutable data types with proper explanation   & examples.\n"
   ]
  },
  {
   "cell_type": "code",
   "execution_count": null,
   "id": "2330c646",
   "metadata": {},
   "outputs": [],
   "source": [
    "In python there are two types of data type i.e. Mutable and Immutable data type. Mutable data type\n",
    "are those which can be modified or which can get change. Vice versa Immutable data types are\n",
    "those data types which can not be modified means can not be changed.\n",
    "      Examples:    \n",
    "              # Mutable Datatypes:\n",
    "                                  List\n",
    "                                  Set\n",
    "                                  Dictionary \n",
    "              #Immutable Datatypes:\n",
    "                                   Tuple \n",
    "                                   String\n"
   ]
  },
  {
   "cell_type": "markdown",
   "id": "e55bf2a7",
   "metadata": {},
   "source": [
    "##  Q.9. Write a code to create the given structure using only for loop    \n",
    "    \n",
    "        *\n",
    "       ***\n",
    "      *****\n",
    "     *******\n",
    "     ********"
   ]
  },
  {
   "cell_type": "code",
   "execution_count": 2,
   "id": "aaee6b5f",
   "metadata": {},
   "outputs": [
    {
     "name": "stdout",
     "output_type": "stream",
     "text": [
      "Enter number of rows5\n",
      "        * \n",
      "      * * * \n",
      "    * * * * * \n",
      "  * * * * * * * \n",
      "* * * * * * * * * \n"
     ]
    }
   ],
   "source": [
    "rows = int(input(\"Enter number of rows\"))\n",
    "for i in range(1, rows + 1):\n",
    "    for j in range(rows - i):\n",
    "        print(\" \", end=\" \")\n",
    "    for k in range(2 * i - 1):\n",
    "        print(\"*\", end=\" \")\n",
    "    print()\n",
    "\n"
   ]
  },
  {
   "cell_type": "markdown",
   "id": "7e706773",
   "metadata": {},
   "source": [
    "## Q.10. Write a code to create the given structure using while loop.\n",
    "    |||||||||\n",
    "     |||||||\n",
    "      |||||\n",
    "       |||\n",
    "        |"
   ]
  },
  {
   "cell_type": "code",
   "execution_count": 2,
   "id": "d17c6bbb",
   "metadata": {},
   "outputs": [
    {
     "name": "stdout",
     "output_type": "stream",
     "text": [
      "|||||||||\n",
      " |||||||\n",
      "  |||||\n",
      "   |||\n",
      "    |\n"
     ]
    }
   ],
   "source": [
    "rows=5 \n",
    "i=0\n",
    "while i < rows:\n",
    "    a= ' '*i\n",
    "    b= '|'*(2 *(rows-i)-1)\n",
    "    print(a+b)\n",
    "    i+=1"
   ]
  },
  {
   "cell_type": "code",
   "execution_count": null,
   "id": "358ef5e8",
   "metadata": {},
   "outputs": [],
   "source": []
  },
  {
   "cell_type": "code",
   "execution_count": null,
   "id": "ec05d1cc",
   "metadata": {},
   "outputs": [],
   "source": []
  }
 ],
 "metadata": {
  "kernelspec": {
   "display_name": "Python 3 (ipykernel)",
   "language": "python",
   "name": "python3"
  },
  "language_info": {
   "codemirror_mode": {
    "name": "ipython",
    "version": 3
   },
   "file_extension": ".py",
   "mimetype": "text/x-python",
   "name": "python",
   "nbconvert_exporter": "python",
   "pygments_lexer": "ipython3",
   "version": "3.9.13"
  }
 },
 "nbformat": 4,
 "nbformat_minor": 5
}
