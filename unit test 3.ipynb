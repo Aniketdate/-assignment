{
 "cells": [
  {
   "cell_type": "markdown",
   "id": "dddad760",
   "metadata": {},
   "source": [
    "## Q1) the Person class has a constructor that takes name and age as arguments and assigns them to the object's attributes. The introduce method is then invoked on the object to introduce the person."
   ]
  },
  {
   "cell_type": "code",
   "execution_count": 4,
   "id": "8d623932",
   "metadata": {},
   "outputs": [
    {
     "name": "stdout",
     "output_type": "stream",
     "text": [
      "Hello, my name is Aniket and I am 20 years old.\n"
     ]
    }
   ],
   "source": [
    "class Person:\n",
    "    def __init__(self, name, age):\n",
    "        self.name = name\n",
    "        self.age = age\n",
    "    def introduce(self):\n",
    "        print(f\"Hello, my name is {self.name} and I am {self.age} years old.\")\n",
    "person = Person(\"Aniket\", 20)\n",
    "person.introduce()"
   ]
  },
  {
   "cell_type": "markdown",
   "id": "7b632d9f",
   "metadata": {},
   "source": [
    "## Q2)the Car class has a constructor that takes brand and model as arguments and assigns them to the object's attributes. The display_info method is then invoked on the object to display the car's brand and model."
   ]
  },
  {
   "cell_type": "code",
   "execution_count": 7,
   "id": "ea6537be",
   "metadata": {},
   "outputs": [],
   "source": [
    "class Car:\n",
    "    def __init__(self, brand, model):\n",
    "        self.brand = brand\n",
    "        self.model = model\n",
    "    def display_info(self):\n",
    "        print(f\"Car brand: {self.brand}, Model: {self.model}\")"
   ]
  },
  {
   "cell_type": "code",
   "execution_count": 9,
   "id": "793b0860",
   "metadata": {},
   "outputs": [],
   "source": [
    "car = Car(\"creata\", \"2022\")"
   ]
  },
  {
   "cell_type": "code",
   "execution_count": 10,
   "id": "0ce247dc",
   "metadata": {},
   "outputs": [
    {
     "name": "stdout",
     "output_type": "stream",
     "text": [
      "Car brand: creata, Model: 2022\n"
     ]
    }
   ],
   "source": [
    "car.display_info()"
   ]
  },
  {
   "cell_type": "markdown",
   "id": "a0a8a4eb",
   "metadata": {},
   "source": [
    "## Q3)the BankAccount class has a constructor that takes account_number and balance as arguments and assigns them to the object's attributes. The display_balance method is then invoked on the object to display the account number and balance"
   ]
  },
  {
   "cell_type": "code",
   "execution_count": 40,
   "id": "af1155c4",
   "metadata": {},
   "outputs": [],
   "source": [
    "class BankAccount:\n",
    "    def __init__(self, account_number, balance):\n",
    "        self.account_number = account_number\n",
    "        self.balance = balance\n",
    "    def display_balance(self):\n",
    "        print(f\"Account Number: {self.account_number}, Balance: ${self.balance:.2f}\")\n"
   ]
  },
  {
   "cell_type": "code",
   "execution_count": 41,
   "id": "c6cd1b94",
   "metadata": {},
   "outputs": [],
   "source": [
    "account = BankAccount(\"585656846584637\", 1500.50)"
   ]
  },
  {
   "cell_type": "code",
   "execution_count": 42,
   "id": "8d8c570e",
   "metadata": {},
   "outputs": [
    {
     "name": "stdout",
     "output_type": "stream",
     "text": [
      "Account Number: 585656846584637, Balance: $1500.50\n"
     ]
    }
   ],
   "source": [
    "account.display_balance()"
   ]
  },
  {
   "cell_type": "markdown",
   "id": "06dc9463",
   "metadata": {},
   "source": [
    "## Q4)the MobilePhone class has a constructor that takes brand and model as arguments and assigns them to the object's attributes. The make_call method is then invoked on the object to make a call with the phone."
   ]
  },
  {
   "cell_type": "code",
   "execution_count": 11,
   "id": "bda69696",
   "metadata": {},
   "outputs": [],
   "source": [
    "class MobilePhone:\n",
    "    def __init__(self, brand, model):\n",
    "        self.brand = brand\n",
    "        self.model = model\n",
    "    def make_call(self, number):\n",
    "        print(f\"Calling {number} using {self.brand} {self.model}\")"
   ]
  },
  {
   "cell_type": "code",
   "execution_count": 12,
   "id": "0dceed41",
   "metadata": {},
   "outputs": [],
   "source": [
    "phone = MobilePhone(\"vivo\", \"Y22\")"
   ]
  },
  {
   "cell_type": "code",
   "execution_count": 13,
   "id": "ce9fe273",
   "metadata": {},
   "outputs": [
    {
     "name": "stdout",
     "output_type": "stream",
     "text": [
      "Calling 7498272683 using vivo Y22\n"
     ]
    }
   ],
   "source": [
    "phone.make_call(\"7498272683\")"
   ]
  },
  {
   "cell_type": "markdown",
   "id": "fad8319f",
   "metadata": {},
   "source": [
    "## Q5)the Book class has a constructor that takes title and author as arguments and assigns them to the object's attributes. The display_info method is then invoked on the object to display the book's title and author"
   ]
  },
  {
   "cell_type": "code",
   "execution_count": 14,
   "id": "d8fc5dca",
   "metadata": {},
   "outputs": [],
   "source": [
    "class Book:\n",
    "    def __init__(self, title, author):\n",
    "        self.title = title\n",
    "        self.author = author\n",
    "    def display_info(self):\n",
    "        print(f\"Title: {self.title}, Author: {self.author}\")"
   ]
  },
  {
   "cell_type": "code",
   "execution_count": 15,
   "id": "b9163bee",
   "metadata": {},
   "outputs": [],
   "source": [
    "book = Book(\"conquest of self\", \"mahatma gandhi\")"
   ]
  },
  {
   "cell_type": "code",
   "execution_count": 16,
   "id": "55a04771",
   "metadata": {},
   "outputs": [
    {
     "name": "stdout",
     "output_type": "stream",
     "text": [
      "Title: conquest of self, Author: mahatma gandhi\n"
     ]
    }
   ],
   "source": [
    "book.display_info()"
   ]
  },
  {
   "cell_type": "markdown",
   "id": "13db73b1",
   "metadata": {},
   "source": [
    "## Q6)Vehicles: Create a base class called Vehicle with attributes such as make, model, and year. Implement two subclasses Car and Motorcycle that inherit from Vehicle. Add additional methods to the subclasses, such as start_engine() and stop_engine(), and handle any specific behavior or rules for each vehicle type."
   ]
  },
  {
   "cell_type": "code",
   "execution_count": 30,
   "id": "aeb0147f",
   "metadata": {},
   "outputs": [],
   "source": [
    "class Vehicle:\n",
    "    def __init__(self, make, model, year):\n",
    "        self.make = make\n",
    "        self.model = model\n",
    "        self.year = year\n",
    "    def display_info(self):\n",
    "        print(f\"{self.year} {self.make} {self.model}\")\n",
    "    def start_engine(self):\n",
    "        print(\"Engine started.\")\n",
    "    def stop_engine(self):\n",
    "        print(\"Engine stopped.\")"
   ]
  },
  {
   "cell_type": "code",
   "execution_count": 31,
   "id": "be8bdf6b",
   "metadata": {},
   "outputs": [],
   "source": [
    "class Car(Vehicle):\n",
    "    def __init__(self, make, model, year, num_doors):\n",
    "        super().__init__(make, model, year)\n",
    "        self.num_doors = num_doors\n",
    "    def start_engine(self):\n",
    "        print(f\"The car's engine is roaring to life!\")\n",
    "    def stop_engine(self):\n",
    "        print(f\"The car's engine has been turned off.\")\n",
    "    def open_trunk(self):\n",
    "        print(\"The car's trunk is now open.\")"
   ]
  },
  {
   "cell_type": "code",
   "execution_count": 32,
   "id": "7234b526",
   "metadata": {},
   "outputs": [],
   "source": [
    "class Motorcycle(Vehicle):\n",
    "    def __init__(self, make, model, year, has_sidecar=False):\n",
    "        super().__init__(make, model, year)\n",
    "        self.has_sidecar = has_sidecar\n",
    "    def start_engine(self):\n",
    "        print(f\"The motorcycle's engine is now running with a powerful vroom!\")\n",
    "    def stop_engine(self):\n",
    "        print(f\"The motorcycle's engine is now off.\")\n",
    "    def pop_wheelie(self):\n",
    "        if not self.has_sidecar:\n",
    "            print(\"The motorcycle pops a wheelie!\")\n",
    "        else:\n",
    "            print(\"This motorcycle has a sidecar and can't pop a wheelie.\")"
   ]
  },
  {
   "cell_type": "code",
   "execution_count": 34,
   "id": "16d18e2d",
   "metadata": {},
   "outputs": [],
   "source": [
    "car = Car(\"hundai\", \"creata\", 2022, num_doors=4)\n",
    "motorcycle = Motorcycle(\"bullet\", \"Street 750\", 2022, has_sidecar=False)"
   ]
  },
  {
   "cell_type": "code",
   "execution_count": 35,
   "id": "5872d295",
   "metadata": {},
   "outputs": [
    {
     "name": "stdout",
     "output_type": "stream",
     "text": [
      "2022 hundai creata\n",
      "2022 bullet Street 750\n"
     ]
    }
   ],
   "source": [
    "car.display_info()           \n",
    "motorcycle.display_info()    "
   ]
  },
  {
   "cell_type": "code",
   "execution_count": 36,
   "id": "f5528d02",
   "metadata": {},
   "outputs": [
    {
     "name": "stdout",
     "output_type": "stream",
     "text": [
      "The car's engine is roaring to life!\n",
      "The motorcycle's engine is now running with a powerful vroom!\n",
      "The motorcycle's engine is now off.\n"
     ]
    }
   ],
   "source": [
    "car.start_engine()          \n",
    "motorcycle.start_engine()  \n",
    "motorcycle.stop_engine()   "
   ]
  },
  {
   "cell_type": "code",
   "execution_count": 37,
   "id": "4a7943be",
   "metadata": {},
   "outputs": [
    {
     "name": "stdout",
     "output_type": "stream",
     "text": [
      "The car's trunk is now open.\n",
      "The motorcycle pops a wheelie!\n"
     ]
    }
   ],
   "source": [
    "car.open_trunk()           \n",
    "motorcycle.pop_wheelie()   "
   ]
  },
  {
   "cell_type": "markdown",
   "id": "6a2de5b1",
   "metadata": {},
   "source": [
    "## Q7)Animals: Create a base class called Animal with methods such as eat() and sleep(). Implement two subclasses Dog and Cat that inherit from Animal. Add additional methods to the subclasses, such as bark() for dogs and meow() for cats, and handle any specific behavior or rules for each animal type."
   ]
  },
  {
   "cell_type": "code",
   "execution_count": 10,
   "id": "a6328b9b",
   "metadata": {},
   "outputs": [],
   "source": [
    "class Animal:\n",
    "    def eat(self):\n",
    "        print(\"The animal is eating.\")\n",
    "    def sleep(self):\n",
    "        print(\"The animal is sleeping.\")"
   ]
  },
  {
   "cell_type": "code",
   "execution_count": 11,
   "id": "05157f47",
   "metadata": {},
   "outputs": [],
   "source": [
    "class Dog(Animal):\n",
    "    def __init__(self, name):\n",
    "        self.name = name\n",
    "    def bark(self):\n",
    "        print(f\"{self.name} is barking: Woof! Woof!\")\n",
    "    def fetch(self):\n",
    "        print(f\"{self.name} is fetching the ball.\")\n",
    "    def sleep(self):\n",
    "        print(f\"{self.name} curls up in its bed and goes to sleep.\")"
   ]
  },
  {
   "cell_type": "code",
   "execution_count": 12,
   "id": "de28164a",
   "metadata": {},
   "outputs": [],
   "source": [
    "class Cat(Animal):\n",
    "    def __init__(self, name):\n",
    "        self.name = name\n",
    "    def meow(self):\n",
    "        print(f\"{self.name} is meowing: Meow!\")\n",
    "    def scratch(self):\n",
    "        print(f\"{self.name} is scratching the furniture.\")\n",
    "    def sleep(self):\n",
    "        print(f\"{self.name} finds a sunny spot and takes a nap.\")"
   ]
  },
  {
   "cell_type": "code",
   "execution_count": 15,
   "id": "2fa8c2f9",
   "metadata": {},
   "outputs": [],
   "source": [
    "dog = Dog(\"Charli\")\n",
    "cat = Cat(\"Mew\")      "
   ]
  },
  {
   "cell_type": "code",
   "execution_count": 16,
   "id": "0f555324",
   "metadata": {},
   "outputs": [
    {
     "name": "stdout",
     "output_type": "stream",
     "text": [
      "The animal is eating.\n",
      "The animal is eating.\n"
     ]
    }
   ],
   "source": [
    "dog.eat()               \n",
    "cat.eat()               "
   ]
  },
  {
   "cell_type": "code",
   "execution_count": 17,
   "id": "00d1bf02",
   "metadata": {},
   "outputs": [
    {
     "name": "stdout",
     "output_type": "stream",
     "text": [
      "Charli curls up in its bed and goes to sleep.\n",
      "Mew finds a sunny spot and takes a nap.\n"
     ]
    }
   ],
   "source": [
    "dog.sleep()             \n",
    "cat.sleep()             "
   ]
  },
  {
   "cell_type": "code",
   "execution_count": 18,
   "id": "b4b2059b",
   "metadata": {},
   "outputs": [
    {
     "name": "stdout",
     "output_type": "stream",
     "text": [
      "Charli is barking: Woof! Woof!\n",
      "Charli is fetching the ball.\n",
      "Mew is meowing: Meow!\n",
      "Mew is scratching the furniture.\n"
     ]
    }
   ],
   "source": [
    "dog.bark()              \n",
    "dog.fetch()             \n",
    "cat.meow()              \n",
    "cat.scratch()     "
   ]
  },
  {
   "cell_type": "code",
   "execution_count": null,
   "id": "1c67bc4e",
   "metadata": {},
   "outputs": [],
   "source": []
  }
 ],
 "metadata": {
  "kernelspec": {
   "display_name": "Python 3 (ipykernel)",
   "language": "python",
   "name": "python3"
  },
  "language_info": {
   "codemirror_mode": {
    "name": "ipython",
    "version": 3
   },
   "file_extension": ".py",
   "mimetype": "text/x-python",
   "name": "python",
   "nbconvert_exporter": "python",
   "pygments_lexer": "ipython3",
   "version": "3.9.13"
  }
 },
 "nbformat": 4,
 "nbformat_minor": 5
}
